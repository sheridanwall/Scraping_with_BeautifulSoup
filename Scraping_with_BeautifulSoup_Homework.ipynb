{
 "cells": [
  {
   "cell_type": "markdown",
   "metadata": {},
   "source": [
    "## Homework 3: Scraping Part One\n",
    "This homework asks you to scrape the dialogue from one act in Shakespeare, please follow the instructions and do the best you can. With the exception of the first cell that imports the request and the beautiful soup library, I have not pre-written any code for you. Do not be afraid--you may look at the tutorial for examples, as well as the Beautiful Soup documentation, and any other Python resource (such a Stack overflow) if need be. \n",
    "\n",
    "This homework is intended to be challenging, if you only get 70% of the stuff done that's great!"
   ]
  },
  {
   "cell_type": "code",
   "execution_count": 1,
   "metadata": {},
   "outputs": [],
   "source": [
    "import requests\n",
    "from bs4 import BeautifulSoup"
   ]
  },
  {
   "cell_type": "markdown",
   "metadata": {},
   "source": [
    "## Shakespeare \n",
    "I've posted some relatively simple HTML of the first act of William Shakespeare's The Tempest here: http://floatingmedia.com/columbia/tempest.html please use that URL to download the HTML and put it through Beautiful Soup. (It also may be very helpful for you to go to that page in chrome and inspect elements why you do this.) \n",
    "**Please note: there are 2 scenes in Act 1**\n",
    "\n"
   ]
  },
  {
   "cell_type": "markdown",
   "metadata": {},
   "source": [
    "In the cells below you should you make two lines--a variable that requests and reads the HTML from the URL (http://floatingmedia.com/columbia/tempest.html), and a second variable that passes the raw HTML into Beautiful Soup. You will use that beautiful soup variable to search the HTML."
   ]
  },
  {
   "cell_type": "code",
   "execution_count": 2,
   "metadata": {},
   "outputs": [],
   "source": [
    "shakespeare_url = \"http://floatingmedia.com/columbia/tempest.html\"\n",
    "raw_html = requests.get(shakespeare_url).content"
   ]
  },
  {
   "cell_type": "markdown",
   "metadata": {},
   "source": [
    "Get the title of the play:\n",
    "\n"
   ]
  },
  {
   "cell_type": "code",
   "execution_count": 3,
   "metadata": {},
   "outputs": [
    {
     "data": {
      "text/plain": [
       "'The Tempest'"
      ]
     },
     "execution_count": 3,
     "metadata": {},
     "output_type": "execute_result"
    }
   ],
   "source": [
    "# print(raw_html)\n",
    "soup_doc = BeautifulSoup(raw_html, \"html.parser\")\n",
    "# print(type(soup_doc))\n",
    "# print(soup_doc.prettify())\n",
    "# print(soup_doc)\n",
    "# soup_doc.find(\"title\")\n",
    "soup_doc.title.string"
   ]
  },
  {
   "cell_type": "markdown",
   "metadata": {},
   "source": [
    "Get the HTML that contains the setting of Act One Scene 1:"
   ]
  },
  {
   "cell_type": "code",
   "execution_count": 4,
   "metadata": {},
   "outputs": [
    {
     "data": {
      "text/plain": [
       "<p class=\"stagedir\"><strong>\n",
       "On a ship at sea</strong></p>"
      ]
     },
     "execution_count": 4,
     "metadata": {},
     "output_type": "execute_result"
    }
   ],
   "source": [
    "soup_doc.find_all('p')[1]"
   ]
  },
  {
   "cell_type": "markdown",
   "metadata": {},
   "source": [
    "Get the setting of Act One Scene 1 (without HTML tags):"
   ]
  },
  {
   "cell_type": "code",
   "execution_count": 5,
   "metadata": {},
   "outputs": [
    {
     "data": {
      "text/plain": [
       "'\\nOn a ship at sea'"
      ]
     },
     "execution_count": 5,
     "metadata": {},
     "output_type": "execute_result"
    }
   ],
   "source": [
    "soup_doc.find_all('p')[1].string"
   ]
  },
  {
   "cell_type": "markdown",
   "metadata": {},
   "source": [
    "Get the setting of scene 2"
   ]
  },
  {
   "cell_type": "code",
   "execution_count": 6,
   "metadata": {},
   "outputs": [
    {
     "data": {
      "text/plain": [
       "'The island. Before PROSPERO’S cell.'"
      ]
     },
     "execution_count": 6,
     "metadata": {},
     "output_type": "execute_result"
    }
   ],
   "source": [
    "soup_doc.find_all('div')[2].find_all('p')[1].string"
   ]
  },
  {
   "cell_type": "markdown",
   "metadata": {},
   "source": [
    "Get the name of the first character to speak in Scene 1"
   ]
  },
  {
   "cell_type": "code",
   "execution_count": 7,
   "metadata": {},
   "outputs": [
    {
     "data": {
      "text/plain": [
       "'Master. '"
      ]
     },
     "execution_count": 7,
     "metadata": {},
     "output_type": "execute_result"
    }
   ],
   "source": [
    "soup_doc.find_all('div')[1].find('li').find('strong').string"
   ]
  },
  {
   "cell_type": "markdown",
   "metadata": {},
   "source": [
    "Get a list of all of characters in Scene 1 (repeats are fine, you need a loop here)"
   ]
  },
  {
   "cell_type": "code",
   "execution_count": 8,
   "metadata": {},
   "outputs": [
    {
     "name": "stdout",
     "output_type": "stream",
     "text": [
      "Master. \n",
      "Boatswain. \n",
      "Master. \n",
      "Boatswain. \n",
      "Alonso. \n",
      "Boatswain. \n",
      "Antonio. \n",
      "Boatswain. \n",
      "Gonzalo. \n",
      "Boatswain. \n",
      "Gonzalo. \n",
      "Boatswain. \n",
      "Gonzalo. \n",
      "Boatswain. \n",
      "Sebastian. \n",
      "Boatswain. \n",
      "Antonio. \n",
      "Gonzalo. \n",
      "Boatswain. \n",
      "Mariners. \n",
      "Boatswain. \n",
      "Gonzalo. \n",
      "Sebastian. \n",
      "Antonio. \n",
      "Gonzalo. \n",
      "Antonio. \n",
      "Sebastian. \n",
      "Gonzalo. \n"
     ]
    }
   ],
   "source": [
    "# characters are strongs\n",
    "scene_one = soup_doc.find_all('div')[1]\n",
    "characters = scene_one.find_all('li')\n",
    "for character in characters:\n",
    "    character_name = character.find('strong')\n",
    "    print(character_name.string)\n",
    "    \n"
   ]
  },
  {
   "cell_type": "markdown",
   "metadata": {},
   "source": [
    "**Bonus:** write a script that takes all the duplicates out of the list. (This is a python thing, not a beautiful soup thing.)"
   ]
  },
  {
   "cell_type": "code",
   "execution_count": 9,
   "metadata": {},
   "outputs": [
    {
     "name": "stdout",
     "output_type": "stream",
     "text": [
      "['Master. ', 'Boatswain. ', 'Alonso. ', 'Antonio. ', 'Gonzalo. ', 'Sebastian. ', 'Mariners. ']\n"
     ]
    }
   ],
   "source": [
    "character_list = []\n",
    "character_list_final = []\n",
    "for character in characters:\n",
    "    character_list.append(character.find('strong').string)\n",
    "# print(character_list)\n",
    "for name in character_list:\n",
    "    if name not in character_list_final:\n",
    "        character_list_final.append(name)\n",
    "print(character_list_final)"
   ]
  },
  {
   "cell_type": "markdown",
   "metadata": {},
   "source": [
    "Display every stage direction in _scene 2_"
   ]
  },
  {
   "cell_type": "code",
   "execution_count": 10,
   "metadata": {},
   "outputs": [
    {
     "name": "stdout",
     "output_type": "stream",
     "text": [
      "[Enter PROSPERO and MIRANDA]\n",
      "[Enter ARIEL]\n",
      "[Exit]\n",
      "[Enter CALIBAN]\n",
      "[Draws, and is charmed from moving]\n",
      "[Exeunt]\n"
     ]
    }
   ],
   "source": [
    "scene_two = soup_doc.find_all('div')[3]\n",
    "directions = scene_two.find_all('p')\n",
    "for direction in directions:\n",
    "    print(direction.string)\n",
    "        \n"
   ]
  },
  {
   "cell_type": "markdown",
   "metadata": {},
   "source": [
    "Get the HTML containing Miranda's first speech in Scene 2"
   ]
  },
  {
   "cell_type": "code",
   "execution_count": 11,
   "metadata": {},
   "outputs": [
    {
     "data": {
      "text/plain": [
       "<li class=\"playtext\"><strong>Miranda. </strong>If by your art, my dearest father, you have\n",
       " <span class=\"playlinenum\">85</span><br/>Put the wild waters in this roar, allay them.\n",
       "<br/>The sky, it seems, would pour down stinking pitch,\n",
       "<br/>But that the sea, mounting to the welkin's cheek,\n",
       "<br/>Dashes the fire out. O, I have suffered\n",
       "<br/>With those that I saw suffer: a brave vessel,\n",
       " <span class=\"playlinenum\">90</span><br/>Who had, no doubt, some noble creature in her,\n",
       "<br/>Dash'd all to pieces. O, the cry did knock\n",
       "<br/>Against my very heart. Poor souls, they perish'd.\n",
       "<br/>Had I been any god of power, I would\n",
       "<br/>Have sunk the sea within the earth or ere\n",
       " <span class=\"playlinenum\">95</span><br/>It should the good ship so have swallow'd and\n",
       "<br/>The fraughting souls within her.\n",
       "</li>"
      ]
     },
     "execution_count": 11,
     "metadata": {},
     "output_type": "execute_result"
    }
   ],
   "source": [
    "speech = scene_two.find_all('ul')[0]\n",
    "speech.find('li')"
   ]
  },
  {
   "cell_type": "markdown",
   "metadata": {},
   "source": [
    "Now display those **same lines without the speaker's name, and no HTML.**\n",
    "\n",
    "This is a bit tricky, try to get as close to this result as you can. (Note: I didn't get the numbers out of there, but it's fine if you want to get them out too):\n",
    "\n",
    "`If by your art, my dearest father, you have\n",
    " \n",
    "85\n",
    "Put the wild waters in this roar, allay them.\n",
    "\n",
    "The sky, it seems, would pour down stinking pitch,\n",
    "\n",
    "But that the sea, mounting to the welkin's cheek,\n",
    "\n",
    "Dashes the fire out. O, I have suffered\n",
    "\n",
    "With those that I saw suffer: a brave vessel,\n",
    " \n",
    "90\n",
    "Who had, no doubt, some noble creature in her,\n",
    "\n",
    "Dash'd all to pieces. O, the cry did knock\n",
    "\n",
    "Against my very heart. Poor souls, they perish'd.\n",
    "\n",
    "Had I been any god of power, I would\n",
    "\n",
    "Have sunk the sea within the earth or ere\n",
    " \n",
    "95\n",
    "It should the good ship so have swallow'd and\n",
    "\n",
    "The fraughting souls within her.`"
   ]
  },
  {
   "cell_type": "code",
   "execution_count": 45,
   "metadata": {},
   "outputs": [
    {
     "name": "stdout",
     "output_type": "stream",
     "text": [
      "Put the wild waters in this roar, allay them.\n",
      "\n",
      "The sky, it seems, would pour down stinking pitch,\n",
      "\n",
      "But that the sea, mounting to the welkin's cheek,\n",
      "\n",
      "Dashes the fire out. O, I have suffered\n",
      "\n",
      "With those that I saw suffer: a brave vessel,\n",
      " \n",
      "Who had, no doubt, some noble creature in her,\n",
      "\n",
      "Dash'd all to pieces. O, the cry did knock\n",
      "\n",
      "Against my very heart. Poor souls, they perish'd.\n",
      "\n",
      "Had I been any god of power, I would\n",
      "\n",
      "Have sunk the sea within the earth or ere\n",
      " \n",
      "It should the good ship so have swallow'd and\n",
      "\n",
      "The fraughting souls within her.\n",
      "\n"
     ]
    }
   ],
   "source": [
    "speeches = scene_two.find_all('ul')[0]\n",
    "miranda_speech = speeches.find('li')\n",
    "#miranda_speech.previous.get_text('/', strip=True)\n",
    "for speech in miranda_speech.find_all('br'):\n",
    "    print(speech.next)"
   ]
  },
  {
   "cell_type": "markdown",
   "metadata": {},
   "source": [
    "I CANNOT figure out how to get all of the ext without Miranda's name or all of the text with the first line and excluding Miranda's name."
   ]
  },
  {
   "cell_type": "markdown",
   "metadata": {},
   "source": [
    "Get the HTML containing the speech after Miranda's"
   ]
  },
  {
   "cell_type": "code",
   "execution_count": 13,
   "metadata": {},
   "outputs": [
    {
     "data": {
      "text/plain": [
       "<li class=\"playtext\"><strong>Prospero. </strong>Be collected:\n",
       "<br/>No more amazement: tell your piteous heart\n",
       "<br/>There's no harm done.\n",
       " <span class=\"playlinenum\">100</span></li>"
      ]
     },
     "execution_count": 13,
     "metadata": {},
     "output_type": "execute_result"
    }
   ],
   "source": [
    "speech_after = scene_two.find_all('ul')[1]\n",
    "speech_after.find('li')"
   ]
  },
  {
   "cell_type": "markdown",
   "metadata": {
    "collapsed": true
   },
   "source": [
    "All done!"
   ]
  }
 ],
 "metadata": {
  "kernelspec": {
   "display_name": "Python 3",
   "language": "python",
   "name": "python3"
  },
  "language_info": {
   "codemirror_mode": {
    "name": "ipython",
    "version": 3
   },
   "file_extension": ".py",
   "mimetype": "text/x-python",
   "name": "python",
   "nbconvert_exporter": "python",
   "pygments_lexer": "ipython3",
   "version": "3.8.2"
  }
 },
 "nbformat": 4,
 "nbformat_minor": 2
}
